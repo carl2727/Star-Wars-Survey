{
 "cells": [
  {
   "cell_type": "markdown",
   "metadata": {},
   "source": [
    "# Data Analysis Project: Fandango Movie Ratings\n",
    "\n",
    "In this project, we want to determine wether the displayed ratings on <a href=\"https://www.fandango.com/\">fandango.com</a> actually represent the internal ratings. <a href=\"https://fivethirtyeight.com/features/fandango-movies-ratings/\">The data journalist Walt Hickey showed</a>, that the displayed ratings were inflated by being rounded up. Since then Fandango has claimed the reason for this was a bug. In this project, we want to analyze if the ratings have been corrected.\n",
    "We will compare the <a href=\"https://github.com/fivethirtyeight/data/tree/master/fandango\">data Walt Hickey used</a> with <a href=\"https://github.com/mircealex/Movie_ratings_2016_17\">a more recent data set</a>.\n",
    "\n",
    "### 1. Import Data and Libraries\n",
    "\n",
    "First, we import all libraries and data sets we will use. We get a first impression by looking at the top rows of each set.\n",
    "\n"
   ]
  },
  {
   "cell_type": "code",
   "execution_count": 125,
   "metadata": {
    "collapsed": false
   },
   "outputs": [
    {
     "name": "stdout",
     "output_type": "stream",
     "text": [
      "                             FILM  RottenTomatoes  RottenTomatoes_User  \\\n",
      "0  Avengers: Age of Ultron (2015)              74                   86   \n",
      "1               Cinderella (2015)              85                   80   \n",
      "2                  Ant-Man (2015)              80                   90   \n",
      "3          Do You Believe? (2015)              18                   84   \n",
      "4   Hot Tub Time Machine 2 (2015)              14                   28   \n",
      "\n",
      "   Metacritic  Metacritic_User  IMDB  Fandango_Stars  Fandango_Ratingvalue  \\\n",
      "0          66              7.1   7.8             5.0                   4.5   \n",
      "1          67              7.5   7.1             5.0                   4.5   \n",
      "2          64              8.1   7.8             5.0                   4.5   \n",
      "3          22              4.7   5.4             5.0                   4.5   \n",
      "4          29              3.4   5.1             3.5                   3.0   \n",
      "\n",
      "   RT_norm  RT_user_norm         ...           IMDB_norm  RT_norm_round  \\\n",
      "0     3.70           4.3         ...                3.90            3.5   \n",
      "1     4.25           4.0         ...                3.55            4.5   \n",
      "2     4.00           4.5         ...                3.90            4.0   \n",
      "3     0.90           4.2         ...                2.70            1.0   \n",
      "4     0.70           1.4         ...                2.55            0.5   \n",
      "\n",
      "   RT_user_norm_round  Metacritic_norm_round  Metacritic_user_norm_round  \\\n",
      "0                 4.5                    3.5                         3.5   \n",
      "1                 4.0                    3.5                         4.0   \n",
      "2                 4.5                    3.0                         4.0   \n",
      "3                 4.0                    1.0                         2.5   \n",
      "4                 1.5                    1.5                         1.5   \n",
      "\n",
      "   IMDB_norm_round  Metacritic_user_vote_count  IMDB_user_vote_count  \\\n",
      "0              4.0                        1330                271107   \n",
      "1              3.5                         249                 65709   \n",
      "2              4.0                         627                103660   \n",
      "3              2.5                          31                  3136   \n",
      "4              2.5                          88                 19560   \n",
      "\n",
      "   Fandango_votes  Fandango_Difference  \n",
      "0           14846                  0.5  \n",
      "1           12640                  0.5  \n",
      "2           12055                  0.5  \n",
      "3            1793                  0.5  \n",
      "4            1021                  0.5  \n",
      "\n",
      "[5 rows x 22 columns] \b\n",
      "                     movie  year  metascore  imdb  tmeter  audience  fandango  \\\n",
      "0      10 Cloverfield Lane  2016         76   7.2      90        79       3.5   \n",
      "1                 13 Hours  2016         48   7.3      50        83       4.5   \n",
      "2      A Cure for Wellness  2016         47   6.6      40        47       3.0   \n",
      "3          A Dog's Purpose  2017         43   5.2      33        76       4.5   \n",
      "4  A Hologram for the King  2016         58   6.1      70        57       3.0   \n",
      "\n",
      "   n_metascore  n_imdb  n_tmeter  n_audience  nr_metascore  nr_imdb  \\\n",
      "0         3.80    3.60      4.50        3.95           4.0      3.5   \n",
      "1         2.40    3.65      2.50        4.15           2.5      3.5   \n",
      "2         2.35    3.30      2.00        2.35           2.5      3.5   \n",
      "3         2.15    2.60      1.65        3.80           2.0      2.5   \n",
      "4         2.90    3.05      3.50        2.85           3.0      3.0   \n",
      "\n",
      "   nr_tmeter  nr_audience  \n",
      "0        4.5          4.0  \n",
      "1        2.5          4.0  \n",
      "2        2.0          2.5  \n",
      "3        1.5          4.0  \n",
      "4        3.5          3.0  \n"
     ]
    }
   ],
   "source": [
    "import pandas as pd\n",
    "%matplotlib inline\n",
    "\n",
    "data1 = pd.read_csv(\"fandango_score_comparison.csv\")\n",
    "data2 = pd.read_csv(\"movie_ratings_16_17.csv\")\n",
    "print(data1.head(), \"\\b\")\n",
    "print(data2.head())"
   ]
  },
  {
   "cell_type": "markdown",
   "metadata": {},
   "source": []
  },
  {
   "cell_type": "markdown",
   "metadata": {
    "collapsed": true
   },
   "source": [
    "### 2. Understanding the Data\n",
    "\n",
    "The population of interest includes all rated movies on the fadango.com. Our two data set represent two samples of this population taken at a different time. We want to make sure, that these samples are represantative of the data.\n",
    "The requirements for Hickey's data set were, that a movie needed to have 30+ ratings at the time of sampling (24.9.2015) and tickets needed to be available at that time aswell. Therefor the sample is not random but tied to conditions. \n",
    "The conditions for the second sample were: The movie must have been released in 2016 or earlier and it must have had a considerable amount of ratings and reviews.\n",
    "We can assume, that the samples are not representative of the whole population. The goal of our project gets a slight adjustment: We want to find out, if the rating of 2016's most popular movies had a less significant bias towards positive ratings than the rating of 2015's most popular movie on fandango.com\n",
    "\n",
    "### 3. Selecting relevant columns\n",
    "\n",
    "Now we want to prepare the two data sets for the analysis. We want to select only the columns that contain relevant information. \n",
    "\n",
    "Data Set 1:\n",
    "* FILM: The name of the movie\n",
    "* Fandango_Stars: The number of stars the film had on its Fandango movie page\n",
    "* Fandango_Ratingvalue: The Fandango ratingValue for the film, as pulled from the HTML of each page. This is the actual average score the movie obtained.\n",
    "* Fandango_votes: The number of user votes the film had on Fandango\n",
    "* Fandango_Difference: The difference between the presented Fandango_Stars and the actual Fandango_Ratingvalue\n",
    "\n",
    "Data Set 2:\n",
    "* movie: The name of the movie\n",
    "* year: The release year of the movie\n",
    "* fandango: The Fandango rating of the movie (user score)"
   ]
  },
  {
   "cell_type": "code",
   "execution_count": 126,
   "metadata": {
    "collapsed": false
   },
   "outputs": [],
   "source": [
    "cols1 = [\"FILM\", \"Fandango_Stars\", \"Fandango_Ratingvalue\", \"Fandango_votes\", \"Fandango_Difference\"]\n",
    "cols2 = [\"movie\", \"year\", \"fandango\"]\n",
    "data1 = data1[cols1]\n",
    "data2 = data2[cols2]"
   ]
  },
  {
   "cell_type": "markdown",
   "metadata": {},
   "source": [
    "### 4. Tailoring the Data Set\n",
    "\n",
    "The two conditions for our samples are: \n",
    "1. Year released (2015/2016)\n",
    "2. Number of ratings (30+)\n",
    "\n",
    "We will select only rows, that fulfill these conditions. However, the second data set doesn't specify the number of ratings. We will take a random sample and check manually if at least 8 of 10 of those movies have 30+ ratings and the sample therefor can be representative for popular movies."
   ]
  },
  {
   "cell_type": "code",
   "execution_count": 127,
   "metadata": {
    "collapsed": false
   },
   "outputs": [
    {
     "name": "stdout",
     "output_type": "stream",
     "text": [
      "39        35\n",
      "122       36\n",
      "71        38\n",
      "43        38\n",
      "145       41\n",
      "70        41\n",
      "32        42\n",
      "42        43\n",
      "38        43\n",
      "31        46\n",
      "110       48\n",
      "139       50\n",
      "121       51\n",
      "30        54\n",
      "64        55\n",
      "37        56\n",
      "144       59\n",
      "109       63\n",
      "120       66\n",
      "119       70\n",
      "41        74\n",
      "36        79\n",
      "95        83\n",
      "108       83\n",
      "87        95\n",
      "127       99\n",
      "94       110\n",
      "29       121\n",
      "118      124\n",
      "117      127\n",
      "       ...  \n",
      "90      4493\n",
      "50      4577\n",
      "99      4933\n",
      "17      5597\n",
      "98      5933\n",
      "49      6272\n",
      "48      6288\n",
      "16      6437\n",
      "125     6506\n",
      "15      6757\n",
      "46      7123\n",
      "124     7705\n",
      "45      8077\n",
      "76      8096\n",
      "128     8357\n",
      "24      8381\n",
      "123     9363\n",
      "89      9418\n",
      "75      9749\n",
      "88     10509\n",
      "2      12055\n",
      "1      12640\n",
      "0      14846\n",
      "131    14998\n",
      "44     15205\n",
      "140    15749\n",
      "73     33538\n",
      "72     34085\n",
      "130    34390\n",
      "97     34846\n",
      "Name: Fandango_votes, Length: 129, dtype: int64\n",
      "                          movie  year  fandango\n",
      "50                      Exposed  2016       2.5\n",
      "202            Under the Shadow  2016       4.0\n",
      "77      In a Valley of Violence  2016       4.0\n",
      "163                    The Boss  2016       3.5\n",
      "190  The Other Side of the Door  2016       3.5\n",
      "84                 Jason Bourne  2016       4.0\n",
      "135                        Race  2016       4.5\n",
      "60                    Get a Job  2016       3.0\n",
      "17     Barbershop: The Next Cut  2016       4.5\n",
      "174            The Finest Hours  2016       4.0\n"
     ]
    },
    {
     "name": "stderr",
     "output_type": "stream",
     "text": [
      "/dataquest/system/env/python3/lib/python3.4/site-packages/ipykernel/__main__.py:1: UserWarning:\n",
      "\n",
      "This pattern has match groups. To actually get the groups, use str.extract.\n",
      "\n"
     ]
    }
   ],
   "source": [
    "movies2015 = data1[\"FILM\"].str.contains(r\"(2015)\")\n",
    "data1 = data1[movies2015]\n",
    "data2 = data2[data2[\"year\"] == 2016]\n",
    "print(data1[\"Fandango_votes\"].sort_values())\n",
    "sample = data2.sample(10)\n",
    "print(sample)"
   ]
  },
  {
   "cell_type": "markdown",
   "metadata": {},
   "source": [
    "* Gods of Egypt: 31,774\n",
    "* Why Him?: 22,300\n",
    "* Assasin's Creed: 57,380\n",
    "* I.T.: 782\n",
    "* Zootopia: 101,291\n",
    "* Bleed fo This: 8,835\n",
    "* Jason Bourne: 56,818\n",
    "* Central Intelligence: 54,312\n",
    "* Me Before You: 30,626\n",
    "* Eddie the Eagle: 22,853\n",
    "\n",
    "The sample suggests, that our data set is representative of popular movies. \n"
   ]
  },
  {
   "cell_type": "code",
   "execution_count": 128,
   "metadata": {
    "collapsed": false
   },
   "outputs": [
    {
     "ename": "NameError",
     "evalue": "name 'lm' is not defined",
     "output_type": "error",
     "traceback": [
      "\u001b[1;31m\u001b[0m",
      "\u001b[1;31mNameError\u001b[0mTraceback (most recent call last)",
      "\u001b[1;32m<ipython-input-128-fe1f69124b9d>\u001b[0m in \u001b[0;36m<module>\u001b[1;34m()\u001b[0m\n\u001b[0;32m      5\u001b[0m \u001b[0msns\u001b[0m\u001b[1;33m.\u001b[0m\u001b[0mdistplot\u001b[0m\u001b[1;33m(\u001b[0m\u001b[0mdata1\u001b[0m\u001b[1;33m[\u001b[0m\u001b[1;34m\"Fandango_Stars\"\u001b[0m\u001b[1;33m]\u001b[0m\u001b[1;33m,\u001b[0m \u001b[0mlabel\u001b[0m\u001b[1;33m=\u001b[0m\u001b[1;34m\"2015\"\u001b[0m\u001b[1;33m)\u001b[0m\u001b[1;33m\u001b[0m\u001b[0m\n\u001b[0;32m      6\u001b[0m \u001b[0msns\u001b[0m\u001b[1;33m.\u001b[0m\u001b[0mdistplot\u001b[0m\u001b[1;33m(\u001b[0m\u001b[0mdata2\u001b[0m\u001b[1;33m[\u001b[0m\u001b[1;34m\"fandango\"\u001b[0m\u001b[1;33m]\u001b[0m\u001b[1;33m,\u001b[0m \u001b[0mlabel\u001b[0m\u001b[1;33m=\u001b[0m\u001b[1;34m\"2016\"\u001b[0m\u001b[1;33m)\u001b[0m\u001b[1;33m\u001b[0m\u001b[0m\n\u001b[1;32m----> 7\u001b[1;33m \u001b[0maxes\u001b[0m \u001b[1;33m=\u001b[0m \u001b[0mlm\u001b[0m\u001b[1;33m.\u001b[0m\u001b[0maxes\u001b[0m\u001b[1;33m\u001b[0m\u001b[0m\n\u001b[0m\u001b[0;32m      8\u001b[0m \u001b[0maxes\u001b[0m\u001b[1;33m[\u001b[0m\u001b[1;36m0\u001b[0m\u001b[1;33m,\u001b[0m\u001b[1;36m0\u001b[0m\u001b[1;33m]\u001b[0m\u001b[1;33m.\u001b[0m\u001b[0mset_xlim\u001b[0m\u001b[1;33m(\u001b[0m\u001b[1;36m0\u001b[0m\u001b[1;33m,\u001b[0m\u001b[1;36m5\u001b[0m\u001b[1;33m)\u001b[0m\u001b[1;33m\u001b[0m\u001b[0m\n\u001b[0;32m      9\u001b[0m \u001b[0maxes\u001b[0m\u001b[1;33m[\u001b[0m\u001b[1;36m0\u001b[0m\u001b[1;33m,\u001b[0m\u001b[1;36m1\u001b[0m\u001b[1;33m]\u001b[0m\u001b[1;33m.\u001b[0m\u001b[0mset_ylim\u001b[0m\u001b[1;33m(\u001b[0m\u001b[1;36m0\u001b[0m\u001b[1;33m,\u001b[0m\u001b[1;33m)\u001b[0m\u001b[1;33m\u001b[0m\u001b[0m\n",
      "\u001b[1;31mNameError\u001b[0m: name 'lm' is not defined"
     ]
    },
    {
     "data": {
      "image/png": "[encoded data removed]",
      "text/plain": [
       "<matplotlib.figure.Figure at 0x7f2ce1520e10>"
      ]
     },
     "metadata": {},
     "output_type": "display_data"
    }
   ],
   "source": [
    "import matplotlib.pyplot as plt\n",
    "import seaborn as sns\n",
    "\n",
    "plt.style.use('fivethirtyeight')\n",
    "sns.distplot(data1[\"Fandango_Stars\"], label=\"2015\")\n",
    "sns.distplot(data2[\"fandango\"], label=\"2016\")\n",
    "plt.legend()\n",
    "\n",
    "\n"
   ]
  },
  {
   "cell_type": "code",
   "execution_count": null,
   "metadata": {
    "collapsed": true
   },
   "outputs": [],
   "source": []
  }
 ],
 "metadata": {
  "kernelspec": {
   "display_name": "Python 3",
   "language": "python",
   "name": "python3"
  },
  "language_info": {
   "codemirror_mode": {
    "name": "ipython",
    "version": 3
   },
   "file_extension": ".py",
   "mimetype": "text/x-python",
   "name": "python",
   "nbconvert_exporter": "python",
   "pygments_lexer": "ipython3",
   "version": "3.4.3"
  }
 },
 "nbformat": 4,
 "nbformat_minor": 2
}
